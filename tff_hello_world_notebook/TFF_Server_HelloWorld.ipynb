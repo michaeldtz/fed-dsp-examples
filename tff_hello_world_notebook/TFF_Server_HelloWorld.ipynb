{
 "cells": [
  {
   "cell_type": "markdown",
   "metadata": {
    "id": "wxCy_p8Ouyx0"
   },
   "source": [
    "# Introduction\n",
    "This Colab explore the possibilities for Federated Machine Learning accross Data Vaults. "
   ]
  },
  {
   "cell_type": "markdown",
   "metadata": {
    "id": "Phozrw_Vum8m"
   },
   "source": [
    "# Preparation"
   ]
  },
  {
   "cell_type": "code",
   "execution_count": 5,
   "metadata": {
    "colab": {
     "base_uri": "https://localhost:8080/"
    },
    "id": "gcOk_GxBup2M",
    "outputId": "41970540-ccfc-45f3-b462-14c646e3f042"
   },
   "outputs": [
    {
     "name": "stdout",
     "output_type": "stream",
     "text": [
      "\u001b[31mERROR: pip's dependency resolver does not currently take into account all the packages that are installed. This behaviour is the source of the following dependency conflicts.\n",
      "jupyter-client 7.0.2 requires nest-asyncio>=1.5, but you have nest-asyncio 1.4.3 which is incompatible.\u001b[0m\n",
      "pip installations finished. consider restarting kernel\n"
     ]
    }
   ],
   "source": [
    "#@title Install Libraries\n",
    "!pip install -q tensorflow==2.5.1\n",
    "!pip install -q tensorflow-federated==0.19.0\n",
    "!pip install -q nest_asyncio==1.4.3\n",
    "print(\"pip installations finished. consider restarting kernel\")"
   ]
  },
  {
   "cell_type": "code",
   "execution_count": 6,
   "metadata": {},
   "outputs": [
    {
     "name": "stdout",
     "output_type": "stream",
     "text": [
      "Package                           Version\n",
      "--------------------------------- -------------------\n",
      "absl-py                           0.13.0\n",
      "aiohttp                           3.7.4.post0\n",
      "ansiwrap                          0.8.4\n",
      "anyio                             3.3.0\n",
      "apache-beam                       2.32.0\n",
      "appdirs                           1.4.4\n",
      "argcomplete                       1.12.3\n",
      "argon2-cffi                       20.1.0\n",
      "arrow                             1.1.1\n",
      "asn1crypto                        1.4.0\n",
      "astunparse                        1.6.3\n",
      "async-generator                   1.10\n",
      "async-timeout                     3.0.1\n",
      "attrs                             19.3.0\n",
      "avro-python3                      1.9.2.1\n",
      "backcall                          0.2.0\n",
      "backports.entry-points-selectable 1.1.0\n",
      "backports.functools-lru-cache     1.6.4\n",
      "beatrix-jupyterlab                0.9.1\n",
      "binaryornot                       0.4.4\n",
      "black                             21.8b0\n",
      "bleach                            4.1.0\n",
      "blinker                           1.4\n",
      "Bottleneck                        1.3.2\n",
      "brotlipy                          0.7.0\n",
      "cached-property                   1.5.2\n",
      "cachetools                        3.1.1\n",
      "caip-notebooks-serverextension    1.0.0\n",
      "certifi                           2021.5.30\n",
      "cffi                              1.14.6\n",
      "chardet                           4.0.0\n",
      "clang                             5.0\n",
      "click                             8.0.1\n",
      "cloud-tpu-client                  0.10\n",
      "cloud-tpu-profiler                2.4.0\n",
      "cloudpickle                       1.6.0\n",
      "colorama                          0.4.4\n",
      "conda                             4.10.3\n",
      "conda-package-handling            1.7.3\n",
      "confuse                           1.5.0\n",
      "cookiecutter                      1.7.3\n",
      "crcmod                            1.7\n",
      "cryptography                      3.4.7\n",
      "cycler                            0.10.0\n",
      "dataclasses                       0.8\n",
      "debugpy                           1.4.1\n",
      "decorator                         5.0.9\n",
      "defusedxml                        0.7.1\n",
      "dill                              0.3.4\n",
      "distlib                           0.3.2\n",
      "dm-tree                           0.1.6\n",
      "docker                            5.0.2\n",
      "docker-pycreds                    0.4.0\n",
      "docopt                            0.6.2\n",
      "entrypoints                       0.3\n",
      "explainable-ai-sdk                1.3.0\n",
      "explainers                        0.1\n",
      "fastavro                          1.4.4\n",
      "fasteners                         0.16.3\n",
      "filelock                          3.0.12\n",
      "flatbuffers                       1.12\n",
      "fsspec                            2021.8.1\n",
      "future                            0.18.2\n",
      "gast                              0.4.0\n",
      "gcsfs                             2021.8.1\n",
      "gitdb                             4.0.7\n",
      "GitPython                         3.1.18\n",
      "google-api-core                   1.31.2\n",
      "google-api-python-client          2.19.1\n",
      "google-apitools                   0.5.31\n",
      "google-auth                       1.35.0\n",
      "google-auth-httplib2              0.1.0\n",
      "google-auth-oauthlib              0.4.6\n",
      "google-cloud-aiplatform           1.1.1\n",
      "google-cloud-appengine-logging    0.1.4\n",
      "google-cloud-audit-log            0.1.1\n",
      "google-cloud-bigquery             2.26.0\n",
      "google-cloud-bigquery-storage     2.7.0\n",
      "google-cloud-bigtable             2.3.3\n",
      "google-cloud-core                 2.0.0\n",
      "google-cloud-dataproc             2.5.0\n",
      "google-cloud-datastore            2.1.6\n",
      "google-cloud-dlp                  1.0.0\n",
      "google-cloud-firestore            2.3.1\n",
      "google-cloud-kms                  2.6.0\n",
      "google-cloud-language             2.2.2\n",
      "google-cloud-logging              2.6.0\n",
      "google-cloud-monitoring           2.5.0\n",
      "google-cloud-pubsub               1.7.0\n",
      "google-cloud-recommendations-ai   0.2.0\n",
      "google-cloud-scheduler            2.3.2\n",
      "google-cloud-spanner              3.9.0\n",
      "google-cloud-speech               2.8.0\n",
      "google-cloud-storage              1.42.0\n",
      "google-cloud-tasks                2.5.1\n",
      "google-cloud-translate            3.4.0\n",
      "google-cloud-videointelligence    2.3.2\n",
      "google-cloud-vision               2.4.2\n",
      "google-crc32c                     1.1.2\n",
      "google-pasta                      0.2.0\n",
      "google-resumable-media            2.0.2\n",
      "googleapis-common-protos          1.53.0\n",
      "greenlet                          1.1.1\n",
      "grpc-google-iam-v1                0.12.3\n",
      "grpcio                            1.34.1\n",
      "grpcio-gcp                        0.2.2\n",
      "gviz-api                          1.9.0\n",
      "h5py                              3.1.0\n",
      "hdfs                              2.6.0\n",
      "horovod                           0.22.1\n",
      "htmlmin                           0.1.12\n",
      "httplib2                          0.19.1\n",
      "idna                              2.10\n",
      "ImageHash                         4.2.1\n",
      "imageio                           2.9.0\n",
      "importlib-metadata                4.8.1\n",
      "importlib-resources               5.2.2\n",
      "ipykernel                         6.3.1\n",
      "ipython                           7.27.0\n",
      "ipython-genutils                  0.2.0\n",
      "ipython-sql                       0.3.9\n",
      "ipywidgets                        7.6.4\n",
      "jax                               0.2.20\n",
      "jaxlib                            0.1.71\n",
      "jedi                              0.18.0\n",
      "Jinja2                            2.11.3\n",
      "jinja2-time                       0.2.0\n",
      "joblib                            1.0.1\n",
      "json5                             0.9.5\n",
      "jsonschema                        3.2.0\n",
      "jupyter                           1.0.0\n",
      "jupyter-client                    7.0.2\n",
      "jupyter-console                   6.4.0\n",
      "jupyter-core                      4.7.1\n",
      "jupyter-http-over-ws              0.0.8\n",
      "jupyter-server                    1.10.2\n",
      "jupyter-server-mathjax            0.2.3\n",
      "jupyterlab                        1.2.21\n",
      "jupyterlab-git                    0.11.0\n",
      "jupyterlab-pygments               0.1.2\n",
      "jupyterlab-server                 1.2.0\n",
      "jupyterlab-widgets                1.0.1\n",
      "keras                             2.6.0\n",
      "keras-nightly                     2.5.0.dev2021032900\n",
      "Keras-Preprocessing               1.1.2\n",
      "keras-tuner                       1.0.4\n",
      "kiwisolver                        1.3.2\n",
      "kt-legacy                         1.0.4\n",
      "kubernetes                        18.20.0\n",
      "libcst                            0.3.20\n",
      "llvmlite                          0.37.0\n",
      "Markdown                          3.3.4\n",
      "MarkupSafe                        1.1.1\n",
      "matplotlib                        3.4.3\n",
      "matplotlib-inline                 0.1.2\n",
      "missingno                         0.4.2\n",
      "mistune                           0.8.4\n",
      "mpmath                            1.2.1\n",
      "multidict                         5.1.0\n",
      "multimethod                       1.4\n",
      "mypy-extensions                   0.4.3\n",
      "nb-conda                          2.2.1\n",
      "nb-conda-kernels                  2.3.1\n",
      "nbclient                          0.5.4\n",
      "nbconvert                         6.1.0\n",
      "nbdime                            3.1.0\n",
      "nbformat                          5.1.3\n",
      "nest-asyncio                      1.4.3\n",
      "networkx                          2.5\n",
      "notebook                          6.4.3\n",
      "notebook-executor                 0.2\n",
      "numba                             0.54.0\n",
      "numpy                             1.19.5\n",
      "oauth2client                      4.1.3\n",
      "oauthlib                          3.1.1\n",
      "olefile                           0.46\n",
      "opt-einsum                        3.3.0\n",
      "orjson                            3.6.3\n",
      "packaging                         21.0\n",
      "pandas                            1.3.2\n",
      "pandas-profiling                  3.0.0\n",
      "pandocfilters                     1.4.2\n",
      "papermill                         2.3.3\n",
      "parso                             0.8.2\n",
      "pathspec                          0.9.0\n",
      "patsy                             0.5.1\n",
      "pexpect                           4.8.0\n",
      "phik                              0.11.2\n",
      "pickleshare                       0.7.5\n",
      "Pillow                            8.3.2\n",
      "pip                               21.2.4\n",
      "platformdirs                      2.3.0\n",
      "portpicker                        1.3.9\n",
      "poyo                              0.5.0\n",
      "prettytable                       2.2.0\n",
      "prometheus-client                 0.11.0\n",
      "promise                           2.3\n",
      "prompt-toolkit                    3.0.20\n",
      "proto-plus                        1.19.0\n",
      "protobuf                          3.16.0\n",
      "psutil                            5.8.0\n",
      "ptyprocess                        0.7.0\n",
      "pyarrow                           5.0.0\n",
      "pyasn1                            0.4.8\n",
      "pyasn1-modules                    0.2.7\n",
      "pycosat                           0.6.3\n",
      "pycparser                         2.20\n",
      "pydantic                          1.8.2\n",
      "pydot                             1.4.2\n",
      "Pygments                          2.10.0\n",
      "PyJWT                             2.1.0\n",
      "pymongo                           3.12.0\n",
      "pyOpenSSL                         20.0.1\n",
      "pyparsing                         2.4.7\n",
      "pyrsistent                        0.17.3\n",
      "PySocks                           1.7.1\n",
      "python-dateutil                   2.8.2\n",
      "python-slugify                    5.0.2\n",
      "pytz                              2021.1\n",
      "pyu2f                             0.1.5\n",
      "PyWavelets                        1.1.1\n",
      "PyYAML                            5.4.1\n",
      "pyzmq                             22.2.1\n",
      "qtconsole                         5.1.1\n",
      "QtPy                              1.11.0\n",
      "regex                             2021.8.28\n",
      "requests                          2.25.1\n",
      "requests-oauthlib                 1.3.0\n",
      "requests-unixsocket               0.2.0\n",
      "retrying                          1.3.3\n",
      "rsa                               4.7.2\n",
      "ruamel-yaml-conda                 0.15.100\n",
      "scikit-image                      0.18.3\n",
      "scikit-learn                      0.24.2\n",
      "scipy                             1.7.1\n",
      "seaborn                           0.11.2\n",
      "semantic-version                  2.8.5\n",
      "Send2Trash                        1.8.0\n",
      "setuptools                        57.4.0\n",
      "simplejson                        3.17.5\n",
      "six                               1.15.0\n",
      "smmap                             3.0.5\n",
      "sniffio                           1.2.0\n",
      "SQLAlchemy                        1.4.23\n",
      "sqlparse                          0.4.1\n",
      "statsmodels                       0.12.2\n",
      "tangled-up-in-unicode             0.1.0\n",
      "tenacity                          8.0.1\n",
      "tensorboard                       2.5.0\n",
      "tensorboard-data-server           0.6.1\n",
      "tensorboard-plugin-profile        2.4.0\n",
      "tensorboard-plugin-wit            1.8.0\n",
      "tensorflow                        2.5.1\n",
      "tensorflow-cloud                  0.1.14\n",
      "tensorflow-datasets               4.3.0\n",
      "tensorflow-estimator              2.5.0\n",
      "tensorflow-federated              0.19.0\n",
      "tensorflow-hub                    0.12.0\n",
      "tensorflow-io                     0.18.0\n",
      "tensorflow-metadata               1.2.0\n",
      "tensorflow-model-optimization     0.5.0\n",
      "tensorflow-privacy                0.5.2\n",
      "tensorflow-probability            0.13.0rc0\n",
      "tensorflow-serving-api            2.6.0\n",
      "tensorflow-transform              1.3.0\n",
      "termcolor                         1.1.0\n",
      "terminado                         0.11.1\n",
      "testpath                          0.5.0\n",
      "text-unidecode                    1.3\n",
      "textwrap3                         0.9.2\n",
      "tfx-bsl                           1.3.0\n",
      "threadpoolctl                     2.2.0\n",
      "tifffile                          2021.8.30\n",
      "tomli                             1.2.1\n",
      "tornado                           6.1\n",
      "tqdm                              4.28.1\n",
      "traitlets                         5.1.0\n",
      "typed-ast                         1.4.3\n",
      "typing-extensions                 3.7.4.3\n",
      "typing-inspect                    0.7.1\n",
      "ujson                             4.0.2\n",
      "Unidecode                         1.2.0\n",
      "uritemplate                       3.0.1\n",
      "urllib3                           1.26.6\n",
      "virtualenv                        20.7.2\n",
      "visions                           0.7.1\n",
      "wcwidth                           0.2.5\n",
      "webencodings                      0.5.1\n",
      "websocket-client                  0.57.0\n",
      "Werkzeug                          2.0.1\n",
      "wheel                             0.37.0\n",
      "whichcraft                        0.6.1\n",
      "widgetsnbextension                3.5.1\n",
      "witwidget                         1.8.0\n",
      "wrapt                             1.12.1\n",
      "xai-tabular-widget                0.1.0\n",
      "yarl                              1.6.3\n",
      "zipp                              3.5.0\n"
     ]
    }
   ],
   "source": [
    "!pip list"
   ]
  },
  {
   "cell_type": "code",
   "execution_count": 7,
   "metadata": {
    "colab": {
     "base_uri": "https://localhost:8080/"
    },
    "id": "DaeZkE4tuuEY",
    "outputId": "67717104-31e1-4e64-d2c0-4bd6dfce609c"
   },
   "outputs": [
    {
     "name": "stderr",
     "output_type": "stream",
     "text": [
      "2021-09-21 20:25:26.479701: I tensorflow/stream_executor/platform/default/dso_loader.cc:53] Successfully opened dynamic library libcudart.so.11.0\n"
     ]
    },
    {
     "name": "stdout",
     "output_type": "stream",
     "text": [
      "Running TFF version 0.19.0\n",
      "And TF version 2.5.1\n",
      "Python 3.7.10\n"
     ]
    }
   ],
   "source": [
    "#@title Import Libraries\n",
    "import tensorflow as tf\n",
    "import tensorflow_federated as tff\n",
    "import numpy as np\n",
    "import nest_asyncio\n",
    "import grpc\n",
    "import sys\n",
    "import os\n",
    "\n",
    "nest_asyncio.apply()\n",
    "tf.get_logger().setLevel('ERROR')\n",
    "print(\"Running TFF version\", tff.__version__)\n",
    "print(\"And TF version\", tf.__version__)\n",
    "!python --version"
   ]
  },
  {
   "cell_type": "code",
   "execution_count": 8,
   "metadata": {
    "id": "_MFVT6NsRMZS"
   },
   "outputs": [
    {
     "name": "stdout",
     "output_type": "stream",
     "text": [
      "Its a managed notebook\n"
     ]
    }
   ],
   "source": [
    "IS_GOOGLE_CLOUD_NOTEBOOK = os.path.exists(\"/opt/deeplearning/metadata/env_version\")\n",
    "\n",
    "# If on Google Cloud Notebooks, then don't execute this code\n",
    "if not IS_GOOGLE_CLOUD_NOTEBOOK:\n",
    "    if \"google.colab\" in sys.modules:\n",
    "        print(\"Its a colab\")\n",
    "        from google.colab import auth as google_auth\n",
    "        google_auth.authenticate_user()\n",
    "    else: \n",
    "        print(\"Its something else\")\n",
    "else:\n",
    "    print(\"Its a managed notebook\")"
   ]
  },
  {
   "cell_type": "markdown",
   "metadata": {
    "id": "E28TCR868bdz"
   },
   "source": [
    "# TFF Hello World\n"
   ]
  },
  {
   "cell_type": "code",
   "execution_count": 9,
   "metadata": {
    "colab": {
     "base_uri": "https://localhost:8080/"
    },
    "id": "IJdblion8dMa",
    "outputId": "2c543820-0db9-4ffc-cbdf-435930d00aa8"
   },
   "outputs": [
    {
     "name": "stdout",
     "output_type": "stream",
     "text": [
      "sum_data: ({int64}@CLIENTS -> {int64}@CLIENTS)\n",
      "compute_local_sum: ({int64}@CLIENTS -> {int64}@CLIENTS)\n",
      "compute_federated_sum: ({int64}@CLIENTS -> int64@SERVER)\n"
     ]
    }
   ],
   "source": [
    "@tff.tf_computation(tf.int64)\n",
    "def make_data(n):\n",
    "  return tf.data.Dataset.range(n)\n",
    "\n",
    "@tff.tf_computation(tff.SequenceType(tf.int64))\n",
    "def sum_data(dataset):\n",
    "  return dataset.reduce(np.int64(0), lambda x, y: x + y)\n",
    "\n",
    "@tff.federated_computation(tff.FederatedType(tf.int64, tff.CLIENTS))\n",
    "def compute_local_sum(federated_n):\n",
    " dataset   = tff.federated_map(make_data, federated_n)\n",
    " local_sum = tff.federated_map(sum_data, dataset)\n",
    " return local_sum\n",
    "\n",
    "@tff.federated_computation(tff.FederatedType(tf.int64, tff.CLIENTS))\n",
    "def compute_federated_sum(federated_n):\n",
    " return tff.federated_sum(compute_local_sum(federated_n))\n",
    "\n",
    "print(\"sum_data:\"     , compute_local_sum.type_signature)\n",
    "print(\"compute_local_sum:\"     , compute_local_sum.type_signature)\n",
    "print(\"compute_federated_sum:\" , compute_federated_sum.type_signature)"
   ]
  },
  {
   "cell_type": "code",
   "execution_count": 10,
   "metadata": {
    "colab": {
     "base_uri": "https://localhost:8080/"
    },
    "id": "TFZ1fKptRSqk",
    "outputId": "b39e37a2-cbd0-4617-c9a1-4a1dc12bdb63"
   },
   "outputs": [
    {
     "name": "stdout",
     "output_type": "stream",
     "text": [
      "URL of the service is: tff-executor-federation-lrkxgk4hia-ey.a.run.app\n"
     ]
    }
   ],
   "source": [
    "service_url = !gcloud run services describe tff-executor-federation --region=europe-west3 --format 'value(status.url)' \n",
    "service_url = service_url[0].replace(\"https://\",\"\")\n",
    "print(\"URL of the service is: \" + service_url)"
   ]
  },
  {
   "cell_type": "code",
   "execution_count": 11,
   "metadata": {
    "id": "hWlMnumLoRSX"
   },
   "outputs": [],
   "source": [
    "# Get a new token. Run this again when the token expires\n",
    "token = !gcloud auth print-identity-token"
   ]
  },
  {
   "cell_type": "code",
   "execution_count": null,
   "metadata": {
    "colab": {
     "base_uri": "https://localhost:8080/",
     "height": 338
    },
    "id": "hWHdlZrQ8gFS",
    "outputId": "d4b3255f-2db6-49be-b3f9-ffbd2ad43572"
   },
   "outputs": [],
   "source": [
    "nest_asyncio.apply()\n",
    "\n",
    "# Set the credentials and channel \n",
    "scc = grpc.ssl_channel_credentials()\n",
    "tok = grpc.access_token_call_credentials(token[0])\n",
    "ccc = grpc.composite_channel_credentials(scc, tok)\n",
    "\n",
    "#channels = [grpc.secure_channel(service_url + \":443\",credentials=ccc)]\n",
    "channels = [grpc.insecure_channel('34.107.126.200:8000')]\n",
    "tff.backends.native.set_remote_execution_context(channels, default_num_clients=1)\n",
    "\n",
    "compute_federated_sum([7])"
   ]
  },
  {
   "cell_type": "code",
   "execution_count": null,
   "metadata": {},
   "outputs": [],
   "source": []
  }
 ],
 "metadata": {
  "colab": {
   "collapsed_sections": [],
   "name": "TFF Server against CloudRun Executor",
   "provenance": [],
   "toc_visible": true
  },
  "environment": {
   "name": "tf2-gpu.2-6.m79",
   "type": "gcloud",
   "uri": "gcr.io/deeplearning-platform-release/tf2-gpu.2-6:m79"
  },
  "kernelspec": {
   "display_name": "Python 3",
   "language": "python",
   "name": "python3"
  },
  "language_info": {
   "codemirror_mode": {
    "name": "ipython",
    "version": 3
   },
   "file_extension": ".py",
   "mimetype": "text/x-python",
   "name": "python",
   "nbconvert_exporter": "python",
   "pygments_lexer": "ipython3",
   "version": "3.7.10"
  }
 },
 "nbformat": 4,
 "nbformat_minor": 4
}
